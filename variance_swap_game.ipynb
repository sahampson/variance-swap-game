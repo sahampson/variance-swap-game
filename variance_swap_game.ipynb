{
 "cells": [
  {
   "cell_type": "markdown",
   "metadata": {},
   "source": [
    "#### Run the following cell to import necessary packages"
   ]
  },
  {
   "cell_type": "code",
   "execution_count": 11,
   "metadata": {},
   "outputs": [],
   "source": [
    "from __future__ import print_function\n",
    "from random import randint\n",
    "from ipywidgets import interact, interactive, fixed, interact_manual\n",
    "import ipywidgets as widgets\n",
    "from IPython.display import display\n",
    "from traitlets import traitlets\n",
    "\n",
    "import pandas as pd\n",
    "import numpy as np\n",
    "import ipywidgets\n",
    "\n",
    "import matplotlib.pyplot as plt\n",
    "\n",
    "%matplotlib inline"
   ]
  },
  {
   "cell_type": "markdown",
   "metadata": {},
   "source": [
    "#### Running the following cell will instantiate the functions for the program to work"
   ]
  },
  {
   "cell_type": "code",
   "execution_count": 3,
   "metadata": {},
   "outputs": [],
   "source": [
    "def compute_vol(trading_period_digits_list):\n",
    "    period_vols = []\n",
    "    for i in trading_period_digits_list:\n",
    "        single_period_vol = (i - 4)**2\n",
    "        period_vols.append(single_period_vol)\n",
    "    return sum(period_vols)\n",
    "\n",
    "def create_teams_list():\n",
    "    team_names = []\n",
    "    while True:\n",
    "        team = input(\"Enter a team name (Type 'q' to quit): \")\n",
    "        if team == 'q':\n",
    "            break\n",
    "        team_names.append(team)\n",
    "    return team_names\n",
    "\n",
    "def create_manual_digits_list():\n",
    "    digits = []\n",
    "    while True:\n",
    "        digit = input(\"Enter each periods trading digit (Type 'q' to quit when finished): \")\n",
    "        if digit == 'q':\n",
    "            break\n",
    "        digits.append(int(digit))\n",
    "    return digits\n",
    "\n",
    "def produce_rand_int():\n",
    "    return randint(0,9)\n",
    "\n",
    "def create_auto_digits_list():\n",
    "    auto_digits = []\n",
    "    for i in range(7):\n",
    "        auto_digits.append(produce_rand_int())\n",
    "    return auto_digits"
   ]
  },
  {
   "cell_type": "markdown",
   "metadata": {},
   "source": [
    "#### Run the following cell, input each team's name. If a typo is made, just re-run the cell."
   ]
  },
  {
   "cell_type": "code",
   "execution_count": 4,
   "metadata": {},
   "outputs": [
    {
     "name": "stdout",
     "output_type": "stream",
     "text": [
      "Enter a team name (Type 'q' to quit): team_a\n",
      "Enter a team name (Type 'q' to quit): team_b\n",
      "Enter a team name (Type 'q' to quit): team_c\n",
      "Enter a team name (Type 'q' to quit): q\n"
     ]
    }
   ],
   "source": [
    "teams = create_teams_list()"
   ]
  },
  {
   "cell_type": "markdown",
   "metadata": {},
   "source": [
    "#### Run the following cell, input appropriate responses, and click submit trade to log a new trade. Change responses and click submit again to log each new trade."
   ]
  },
  {
   "cell_type": "code",
   "execution_count": 37,
   "metadata": {
    "scrolled": true
   },
   "outputs": [
    {
     "data": {
      "application/vnd.jupyter.widget-view+json": {
       "model_id": "be734139027b49ccac4e2dc5a8454453",
       "version_major": 2,
       "version_minor": 0
      },
      "text/plain": [
       "Accordion(children=(Select(options=('team_a', 'team_b', 'team_c'), value='team_a'), Select(options=('team_a', …"
      ]
     },
     "metadata": {},
     "output_type": "display_data"
    },
    {
     "data": {
      "application/vnd.jupyter.widget-view+json": {
       "model_id": "c93545c78058403aa334e73cd4394d6f",
       "version_major": 2,
       "version_minor": 0
      },
      "text/plain": [
       "LoadedButton(description='Click to Submit Trade', style=ButtonStyle())"
      ]
     },
     "metadata": {},
     "output_type": "display_data"
    }
   ],
   "source": [
    "input_trade_accordion = widgets.Accordion(children=[widgets.Select(options=teams,disabled=False),\n",
    "                                                    widgets.Select(options=teams,disabled=False),\n",
    "                                                    widgets.FloatText()])\n",
    "input_trade_accordion.set_title(0, 'Buyer')\n",
    "input_trade_accordion.set_title(1, 'Seller')\n",
    "input_trade_accordion.set_title(2, 'Price')\n",
    "\n",
    "class LoadedButton(widgets.Button):\n",
    "    \"\"\"A button that can holds a value as a attribute.\"\"\"\n",
    "\n",
    "    def __init__(self, value=None, *args, **kwargs):\n",
    "        super(LoadedButton, self).__init__(*args, **kwargs)\n",
    "        # Create the value attribute.\n",
    "        self.add_traits(value=traitlets.Any(value))\n",
    "\n",
    "def add_trades(b):\n",
    "    b.value = b.value.append({'buyer':input_trade_accordion.children[0].value,\n",
    "                              'seller':input_trade_accordion.children[1].value,\n",
    "                              'price':input_trade_accordion.children[2].value}, ignore_index=True)\n",
    "\n",
    "lb = LoadedButton(description=\"Click to Submit Trade\", value=pd.DataFrame(columns=['buyer','seller','price']))\n",
    "lb.on_click(add_trades)\n",
    "display(input_trade_accordion, lb)"
   ]
  },
  {
   "cell_type": "markdown",
   "metadata": {},
   "source": [
    "#### Run the next cell to create trade_log variable"
   ]
  },
  {
   "cell_type": "code",
   "execution_count": 40,
   "metadata": {},
   "outputs": [],
   "source": [
    "#Assign values from input to trade_log variable\n",
    "trade_log = lb.value"
   ]
  },
  {
   "cell_type": "markdown",
   "metadata": {},
   "source": [
    "#### Run the following cell to take a look at the trade log"
   ]
  },
  {
   "cell_type": "code",
   "execution_count": 41,
   "metadata": {},
   "outputs": [
    {
     "data": {
      "text/html": [
       "<div>\n",
       "<style>\n",
       "    .dataframe thead tr:only-child th {\n",
       "        text-align: right;\n",
       "    }\n",
       "\n",
       "    .dataframe thead th {\n",
       "        text-align: left;\n",
       "    }\n",
       "\n",
       "    .dataframe tbody tr th {\n",
       "        vertical-align: top;\n",
       "    }\n",
       "</style>\n",
       "<table border=\"1\" class=\"dataframe\">\n",
       "  <thead>\n",
       "    <tr style=\"text-align: right;\">\n",
       "      <th></th>\n",
       "      <th>buyer</th>\n",
       "      <th>seller</th>\n",
       "      <th>price</th>\n",
       "    </tr>\n",
       "  </thead>\n",
       "  <tbody>\n",
       "    <tr>\n",
       "      <th>0</th>\n",
       "      <td>team_a</td>\n",
       "      <td>team_b</td>\n",
       "      <td>3.0</td>\n",
       "    </tr>\n",
       "    <tr>\n",
       "      <th>1</th>\n",
       "      <td>team_b</td>\n",
       "      <td>team_a</td>\n",
       "      <td>6.0</td>\n",
       "    </tr>\n",
       "    <tr>\n",
       "      <th>2</th>\n",
       "      <td>team_b</td>\n",
       "      <td>team_a</td>\n",
       "      <td>7.0</td>\n",
       "    </tr>\n",
       "    <tr>\n",
       "      <th>3</th>\n",
       "      <td>team_a</td>\n",
       "      <td>team_c</td>\n",
       "      <td>12.0</td>\n",
       "    </tr>\n",
       "  </tbody>\n",
       "</table>\n",
       "</div>"
      ],
      "text/plain": [
       "    buyer  seller  price\n",
       "0  team_a  team_b    3.0\n",
       "1  team_b  team_a    6.0\n",
       "2  team_b  team_a    7.0\n",
       "3  team_a  team_c   12.0"
      ]
     },
     "execution_count": 41,
     "metadata": {},
     "output_type": "execute_result"
    }
   ],
   "source": [
    "trade_log"
   ]
  },
  {
   "cell_type": "markdown",
   "metadata": {},
   "source": [
    "#### Run following cell, input the digits for the trading periods. If a typo is made, just re-run the cell"
   ]
  },
  {
   "cell_type": "code",
   "execution_count": 42,
   "metadata": {},
   "outputs": [
    {
     "name": "stdout",
     "output_type": "stream",
     "text": [
      "Enter each periods trading digit (Type 'q' to quit when finished): 1\n",
      "Enter each periods trading digit (Type 'q' to quit when finished): 6\n",
      "Enter each periods trading digit (Type 'q' to quit when finished): 4\n",
      "Enter each periods trading digit (Type 'q' to quit when finished): 5\n",
      "Enter each periods trading digit (Type 'q' to quit when finished): 7\n",
      "Enter each periods trading digit (Type 'q' to quit when finished): 8\n",
      "Enter each periods trading digit (Type 'q' to quit when finished): 9\n",
      "Enter each periods trading digit (Type 'q' to quit when finished): q\n"
     ]
    }
   ],
   "source": [
    "trading_digits = create_manual_digits_list()"
   ]
  },
  {
   "cell_type": "markdown",
   "metadata": {},
   "source": [
    "#### Running the following cell will compute the P/L for each team"
   ]
  },
  {
   "cell_type": "code",
   "execution_count": 45,
   "metadata": {},
   "outputs": [
    {
     "data": {
      "text/html": [
       "<div>\n",
       "<style>\n",
       "    .dataframe thead tr:only-child th {\n",
       "        text-align: right;\n",
       "    }\n",
       "\n",
       "    .dataframe thead th {\n",
       "        text-align: left;\n",
       "    }\n",
       "\n",
       "    .dataframe tbody tr th {\n",
       "        vertical-align: top;\n",
       "    }\n",
       "</style>\n",
       "<table border=\"1\" class=\"dataframe\">\n",
       "  <thead>\n",
       "    <tr style=\"text-align: right;\">\n",
       "      <th></th>\n",
       "      <th>buy_spread</th>\n",
       "      <th>sell_spread</th>\n",
       "      <th>P/L</th>\n",
       "    </tr>\n",
       "    <tr>\n",
       "      <th>team</th>\n",
       "      <th></th>\n",
       "      <th></th>\n",
       "      <th></th>\n",
       "    </tr>\n",
       "  </thead>\n",
       "  <tbody>\n",
       "    <tr>\n",
       "      <th>team_a</th>\n",
       "      <td>113.0</td>\n",
       "      <td>-115.0</td>\n",
       "      <td>-2.0</td>\n",
       "    </tr>\n",
       "    <tr>\n",
       "      <th>team_b</th>\n",
       "      <td>115.0</td>\n",
       "      <td>-61.0</td>\n",
       "      <td>54.0</td>\n",
       "    </tr>\n",
       "  </tbody>\n",
       "</table>\n",
       "</div>"
      ],
      "text/plain": [
       "        buy_spread  sell_spread   P/L\n",
       "team                                 \n",
       "team_a       113.0       -115.0  -2.0\n",
       "team_b       115.0        -61.0  54.0"
      ]
     },
     "execution_count": 45,
     "metadata": {},
     "output_type": "execute_result"
    }
   ],
   "source": [
    "#Compute volatility across all periods, append to trade_log df\n",
    "trade_log['contract_value'] = compute_vol(trading_digits)\n",
    "\n",
    "#compute spreads for buyers and sellers on each trade\n",
    "trade_log['buy_spread'] = trade_log['contract_value'] - trade_log['price']\n",
    "trade_log['sell_spread'] = trade_log['price'] - trade_log['contract_value']\n",
    "\n",
    "#compute team P/L into 2 dataframes for buyers, and sellers\n",
    "buy_pl = trade_log.groupby('buyer')['buy_spread'].sum().to_frame()\n",
    "sell_pl = trade_log.groupby('seller')['sell_spread'].sum().to_frame()\n",
    "\n",
    "#join the dataframes, rename index, compute total P/L\n",
    "combined_pl = buy_pl.join(sell_pl)\n",
    "combined_pl.index.names = ['team']\n",
    "combined_pl['P/L'] = combined_pl['buy_spread'] + combined_pl['sell_spread']\n",
    "\n",
    "#display P/L\n",
    "combined_pl"
   ]
  },
  {
   "cell_type": "code",
   "execution_count": 47,
   "metadata": {},
   "outputs": [
    {
     "data": {
      "text/html": [
       "<div>\n",
       "<style>\n",
       "    .dataframe thead tr:only-child th {\n",
       "        text-align: right;\n",
       "    }\n",
       "\n",
       "    .dataframe thead th {\n",
       "        text-align: left;\n",
       "    }\n",
       "\n",
       "    .dataframe tbody tr th {\n",
       "        vertical-align: top;\n",
       "    }\n",
       "</style>\n",
       "<table border=\"1\" class=\"dataframe\">\n",
       "  <thead>\n",
       "    <tr style=\"text-align: right;\">\n",
       "      <th></th>\n",
       "      <th>buyer</th>\n",
       "      <th>seller</th>\n",
       "      <th>price</th>\n",
       "      <th>contract_value</th>\n",
       "      <th>buy_spread</th>\n",
       "      <th>sell_spread</th>\n",
       "    </tr>\n",
       "  </thead>\n",
       "  <tbody>\n",
       "    <tr>\n",
       "      <th>0</th>\n",
       "      <td>team_a</td>\n",
       "      <td>team_b</td>\n",
       "      <td>3.0</td>\n",
       "      <td>64</td>\n",
       "      <td>61.0</td>\n",
       "      <td>-61.0</td>\n",
       "    </tr>\n",
       "    <tr>\n",
       "      <th>1</th>\n",
       "      <td>team_b</td>\n",
       "      <td>team_a</td>\n",
       "      <td>6.0</td>\n",
       "      <td>64</td>\n",
       "      <td>58.0</td>\n",
       "      <td>-58.0</td>\n",
       "    </tr>\n",
       "    <tr>\n",
       "      <th>2</th>\n",
       "      <td>team_b</td>\n",
       "      <td>team_a</td>\n",
       "      <td>7.0</td>\n",
       "      <td>64</td>\n",
       "      <td>57.0</td>\n",
       "      <td>-57.0</td>\n",
       "    </tr>\n",
       "    <tr>\n",
       "      <th>3</th>\n",
       "      <td>team_a</td>\n",
       "      <td>team_c</td>\n",
       "      <td>12.0</td>\n",
       "      <td>64</td>\n",
       "      <td>52.0</td>\n",
       "      <td>-52.0</td>\n",
       "    </tr>\n",
       "  </tbody>\n",
       "</table>\n",
       "</div>"
      ],
      "text/plain": [
       "    buyer  seller  price  contract_value  buy_spread  sell_spread\n",
       "0  team_a  team_b    3.0              64        61.0        -61.0\n",
       "1  team_b  team_a    6.0              64        58.0        -58.0\n",
       "2  team_b  team_a    7.0              64        57.0        -57.0\n",
       "3  team_a  team_c   12.0              64        52.0        -52.0"
      ]
     },
     "execution_count": 47,
     "metadata": {},
     "output_type": "execute_result"
    }
   ],
   "source": [
    "trade_log"
   ]
  },
  {
   "cell_type": "code",
   "execution_count": null,
   "metadata": {},
   "outputs": [],
   "source": []
  }
 ],
 "metadata": {
  "kernelspec": {
   "display_name": "Python 3",
   "language": "python",
   "name": "python3"
  },
  "language_info": {
   "codemirror_mode": {
    "name": "ipython",
    "version": 3
   },
   "file_extension": ".py",
   "mimetype": "text/x-python",
   "name": "python",
   "nbconvert_exporter": "python",
   "pygments_lexer": "ipython3",
   "version": "3.6.5"
  }
 },
 "nbformat": 4,
 "nbformat_minor": 2
}
